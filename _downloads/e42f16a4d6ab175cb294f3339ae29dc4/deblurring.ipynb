{
  "cells": [
    {
      "cell_type": "code",
      "execution_count": null,
      "metadata": {
        "collapsed": false
      },
      "outputs": [],
      "source": [
        "%matplotlib inline"
      ]
    },
    {
      "cell_type": "markdown",
      "metadata": {},
      "source": [
        "\n# Image Deblurring\n\nThis example demonstrates following features:\n\n- ``cr.sparse.lop.convolve2D`` A 2D convolution linear operator\n- ``cr.sparse.sls.lsqr`` LSQR algorithm for solving a least square problem on 2D images\n\nImage deblurring can be treated as a deconvolution problem if the filter used\nfor blurring the image is known.\n\nPlease see the deconvolution example for some background.\n"
      ]
    },
    {
      "cell_type": "markdown",
      "metadata": {},
      "source": [
        "Let's import necessary libraries \n\n"
      ]
    },
    {
      "cell_type": "code",
      "execution_count": null,
      "metadata": {
        "collapsed": false
      },
      "outputs": [],
      "source": [
        "import jax.numpy as jnp\n# For plotting diagrams\nimport matplotlib.pyplot as plt\n## CR-Sparse modules\nimport cr.sparse as crs\n# Linear operators\nfrom cr.sparse import lop\n# Image processing utilities\nfrom cr.sparse import vision\n# Solvers for sparse linear systems\nfrom cr.sparse import sls\n# Sample images\nimport skimage.data\n# Configure JAX for 64-bit computing\nfrom jax.config import config\nconfig.update(\"jax_enable_x64\", True)"
      ]
    },
    {
      "cell_type": "markdown",
      "metadata": {},
      "source": [
        "## Problem Setup\n\n"
      ]
    },
    {
      "cell_type": "code",
      "execution_count": null,
      "metadata": {
        "collapsed": false
      },
      "outputs": [],
      "source": [
        "image = skimage.data.checkerboard()\nprint(image.shape)"
      ]
    },
    {
      "cell_type": "markdown",
      "metadata": {},
      "source": [
        "## Gaussian blur kernel\n\n"
      ]
    },
    {
      "cell_type": "code",
      "execution_count": null,
      "metadata": {
        "collapsed": false
      },
      "outputs": [],
      "source": [
        "h  = vision.kernel_gaussian((15,25), (8,4))\n# plot the kernel\nfig, ax = plt.subplots(1, 1, figsize=(5, 3))\nhim = ax.imshow(h)\nax.set_title('Blurring kernel')\nfig.colorbar(him, ax=ax)\nax.axis('tight')"
      ]
    },
    {
      "cell_type": "markdown",
      "metadata": {},
      "source": [
        "### The linear operator for the blur kernel\nLocate the center of the filter\n\n"
      ]
    },
    {
      "cell_type": "code",
      "execution_count": null,
      "metadata": {
        "collapsed": false
      },
      "outputs": [],
      "source": [
        "offset = crs.arr_largest_index(h)\nprint(offset)\n# Construct a 2D convolution operator based on the kernel\nH = lop.convolve2D(image.shape, h, offset=offset)\n# JIT compile the convolution operator for efficiency\nH = lop.jit(H)"
      ]
    },
    {
      "cell_type": "markdown",
      "metadata": {},
      "source": [
        "### The blurring\nApply the blurring operator to the original image \n\n"
      ]
    },
    {
      "cell_type": "code",
      "execution_count": null,
      "metadata": {
        "collapsed": false
      },
      "outputs": [],
      "source": [
        "blurred_image = H.times(image)\n# plot the original and the blurred images\nfig, ax = plt.subplots(ncols=2, figsize=(10, 5))\nax[0].imshow(image, cmap=plt.cm.gray)\nax[0].set_title('Original')\nax[1].imshow(blurred_image, cmap=plt.cm.gray)\nax[1].set_title('After blurring')"
      ]
    },
    {
      "cell_type": "markdown",
      "metadata": {},
      "source": [
        "### The deblurring using LSQR algorithm\nAn initial guess of the deblurred image is all zeros\n\n"
      ]
    },
    {
      "cell_type": "code",
      "execution_count": null,
      "metadata": {
        "collapsed": false
      },
      "outputs": [],
      "source": [
        "x0 = jnp.zeros_like(blurred_image)\n# We run LSQR algorithm to deblur the image for 50 iterations\nsol = sls.lsqr(H, blurred_image, x0, max_iters=50)\ndeblurred_image = sol.x\n# Plot the original, blurred and deblurred image\nfig, ax = plt.subplots(ncols=3, figsize=(15, 5))\nax[0].imshow(image, cmap=plt.cm.gray)\nax[0].set_title('Original')\nax[1].imshow(blurred_image, cmap=plt.cm.gray)\nax[1].set_title('After blurring')\nax[2].imshow(deblurred_image, cmap=plt.cm.gray)\nax[2].set_title('After deblurring')\n\nprint(sol)"
      ]
    }
  ],
  "metadata": {
    "kernelspec": {
      "display_name": "Python 3",
      "language": "python",
      "name": "python3"
    },
    "language_info": {
      "codemirror_mode": {
        "name": "ipython",
        "version": 3
      },
      "file_extension": ".py",
      "mimetype": "text/x-python",
      "name": "python",
      "nbconvert_exporter": "python",
      "pygments_lexer": "ipython3",
      "version": "3.8.11"
    }
  },
  "nbformat": 4,
  "nbformat_minor": 0
}